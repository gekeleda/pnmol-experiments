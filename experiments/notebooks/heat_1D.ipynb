{
 "cells": [
  {
   "cell_type": "code",
   "execution_count": null,
   "id": "511f9aa7-97c2-40a6-a53f-ce2d0d39c075",
   "metadata": {},
   "outputs": [],
   "source": [
    "import jax.numpy as jnp\n",
    "\n",
    "import matplotlib.pyplot as plt\n",
    "import tornadox\n",
    "from matplotlib import animation\n",
    "\n",
    "import pnmol\n",
    "\n",
    "from IPython.display import HTML"
   ]
  },
  {
   "cell_type": "code",
   "execution_count": null,
   "id": "d5deb9b9-288c-403b-9e8c-c22c85ee437f",
   "metadata": {},
   "outputs": [],
   "source": [
    "%load_ext autoreload\n",
    "%autoreload 2"
   ]
  },
  {
   "cell_type": "markdown",
   "id": "59038365-07cf-4f90-b953-64ed775aa038",
   "metadata": {},
   "source": [
    "## Heat (diffusion) equation in 2D"
   ]
  },
  {
   "cell_type": "code",
   "execution_count": null,
   "id": "112c26ac-67fe-425a-ae64-d9e93dd08cfc",
   "metadata": {},
   "outputs": [],
   "source": [
    "discretized_pde, L, E = pnmol.pde_problems.heat_1d()"
   ]
  },
  {
   "cell_type": "code",
   "execution_count": null,
   "id": "6c892abf-3e18-4f6a-93c7-c05e35396361",
   "metadata": {},
   "outputs": [],
   "source": [
    "constant_steps = tornadox.step.ConstantSteps(0.01)\n",
    "adaptive_steps = tornadox.step.AdaptiveSteps(abstol=1e-3, reltol=1e-3)\n",
    "nu = 3"
   ]
  },
  {
   "cell_type": "code",
   "execution_count": null,
   "id": "aba15ea9-9bcb-4cf0-96d8-79f8f1803410",
   "metadata": {},
   "outputs": [],
   "source": [
    "ek1 = tornadox.ek1.ReferenceEK1(num_derivatives=nu, steprule=adaptive_steps)\n",
    "sol = ek1.solve(ivp=discretized_pde)"
   ]
  },
  {
   "cell_type": "code",
   "execution_count": null,
   "id": "3f66c2ab-d2cc-44df-a5e0-dd6629b92d6a",
   "metadata": {},
   "outputs": [],
   "source": [
    "print(sol.mean[3].shape)\n",
    "print(sol.cov[3].shape)\n",
    "E0 = ek1.iwp.projection_matrix(0)\n",
    "print(E0.shape)"
   ]
  },
  {
   "cell_type": "code",
   "execution_count": null,
   "id": "2e0bc87d-da9d-4e99-b432-5225c4629ee3",
   "metadata": {},
   "outputs": [],
   "source": [
    "plt.rcParams[\"animation.embed_limit\"] = 2 * 10**8  # Set the animation max size to 200MB\n",
    "\n",
    "grid = discretized_pde.spatial_grid\n",
    "\n",
    "fig = plt.figure(figsize=(20, 8))\n",
    "ax = fig.add_subplot(1,1,1)\n",
    "_im1 = ax.plot(grid.points.squeeze(), E0 @ sol.mean[0])\n",
    "_im1 = ax.plot(grid.points.squeeze(), discretized_pde.y0.squeeze())\n",
    "\n",
    "ax1ylim = [-1.2, 1.2]\n",
    "ax.set_ylim(ax1ylim)\n",
    "\n",
    "plt.close()\n",
    "\n",
    "\n",
    "def animate(i):\n",
    "    \n",
    "    mean = E0 @ sol.mean[i]\n",
    "    std = E0 @ jnp.sqrt(jnp.diag(sol.cov[i]))\n",
    "    \n",
    "    ax.cla()\n",
    "    ax.set_title(f\"t={jnp.round(sol.t[i], 2)}\")\n",
    "    ax.plot(grid.points.squeeze(), mean, color=\"C0\", label=\"PN solution\")\n",
    "    ax.fill_between(\n",
    "        grid.points.squeeze(), \n",
    "        mean - 2 * std, \n",
    "        mean + 2 * std,\n",
    "        color=\"C0\",\n",
    "        alpha=0.2,\n",
    "    )\n",
    "    ax.set_ylim(ax1ylim)\n",
    "    ax.legend()\n",
    "    \n",
    "# Animation setup\n",
    "anim = animation.FuncAnimation(\n",
    "    fig, func=animate, frames=len(sol.t), interval=100, repeat_delay=4000, blit=False\n",
    ")\n",
    "HTML(anim.to_jshtml())"
   ]
  },
  {
   "cell_type": "code",
   "execution_count": null,
   "id": "09adab84-9bb7-445f-bc00-0711489497e9",
   "metadata": {},
   "outputs": [],
   "source": []
  }
 ],
 "metadata": {
  "kernelspec": {
   "display_name": "Python [conda env:pnmol]",
   "language": "python",
   "name": "conda-env-pnmol-py"
  },
  "language_info": {
   "codemirror_mode": {
    "name": "ipython",
    "version": 3
   },
   "file_extension": ".py",
   "mimetype": "text/x-python",
   "name": "python",
   "nbconvert_exporter": "python",
   "pygments_lexer": "ipython3",
   "version": "3.8.11"
  }
 },
 "nbformat": 4,
 "nbformat_minor": 5
}
