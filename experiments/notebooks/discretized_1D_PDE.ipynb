{
 "cells": [
  {
   "cell_type": "code",
   "execution_count": 1,
   "id": "7184a91f",
   "metadata": {},
   "outputs": [],
   "source": [
    "import jax.numpy as jnp\n",
    "\n",
    "import matplotlib.pyplot as plt\n",
    "import tornadox\n",
    "from matplotlib import animation\n",
    "\n",
    "import pnmol\n",
    "\n",
    "from IPython.display import HTML"
   ]
  },
  {
   "cell_type": "code",
   "execution_count": 2,
   "id": "cc876782",
   "metadata": {},
   "outputs": [],
   "source": [
    "%load_ext autoreload\n",
    "%autoreload 2"
   ]
  },
  {
   "cell_type": "markdown",
   "id": "cca39250",
   "metadata": {},
   "source": [
    "## Discretize some 1D PDE"
   ]
  },
  {
   "cell_type": "code",
   "execution_count": 3,
   "id": "cd9d52d5",
   "metadata": {},
   "outputs": [
    {
     "name": "stderr",
     "output_type": "stream",
     "text": [
      "WARNING:absl:No GPU/TPU found, falling back to CPU. (Set TF_CPP_MIN_LOG_LEVEL=0 and rerun for more info.)\n",
      "100%|███████████████████████████████████████████| 51/51 [00:01<00:00, 46.31it/s]"
     ]
    },
    {
     "name": "stdout",
     "output_type": "stream",
     "text": [
      "3.0 2.997601571978149\n",
      "3.0 2.9999999740209646\n",
      "3.0 2.9999999740209646\n",
      "3.0 2.9999999740209646\n",
      "3.0 2.9999999740209646\n",
      "3.0 2.9999999740209646\n",
      "3.0 2.9999999740209646\n",
      "3.0 2.9999999740209646\n",
      "3.0 2.9999999740209646\n",
      "3.0 2.9999999740209646\n",
      "3.0 2.9999999740209646\n",
      "3.0 2.9999999740209646\n",
      "3.0 2.9999999740209646\n",
      "3.0 2.9999999740209646\n",
      "3.0 2.9999999740209646\n",
      "3.0 2.9999999740209646\n",
      "3.0 2.9999999740209646\n",
      "3.0 2.9999999740209646\n",
      "3.0 2.9999999740209646\n",
      "3.0 2.9999999740209646\n",
      "3.0 2.9999999740209646\n",
      "3.0 2.9999999740209646\n",
      "3.0 2.9999999740209646\n",
      "3.0 2.9999999740209646\n",
      "3.0 2.9999999740209646\n",
      "3.0 2.9999999740209646\n",
      "3.0 2.9999999740209646\n",
      "3.0 2.9999999740209646\n",
      "3.0 2.9999999740209646\n",
      "3.0 2.9999999740209646\n",
      "3.0 2.9999999740209646\n",
      "3.0 2.9999999740209646\n",
      "3.0 2.9999999740209646\n",
      "3.0 2.9999999740209646\n",
      "3.0 2.9999999740209646\n",
      "3.0 2.9999999740209646\n",
      "3.0 2.9999999740209646\n",
      "3.0 2.9999999740209646\n",
      "3.0 2.9999999740209646\n",
      "3.0 2.9999999740209646\n",
      "3.0 2.9999999740209646\n",
      "3.0 2.9999999740209646\n",
      "3.0 2.9999999740209646\n",
      "3.0 2.9999999740209646\n",
      "3.0 2.9999999740209646\n",
      "3.0 2.9999999740209646\n",
      "3.0 2.9999999740209646\n",
      "3.0 2.9999999740209646\n",
      "3.0 2.9999999740209646\n",
      "3.0 2.9999999740209646\n",
      "3.0 2.997601571978149\n"
     ]
    },
    {
     "name": "stderr",
     "output_type": "stream",
     "text": [
      "\n"
     ]
    },
    {
     "name": "stdout",
     "output_type": "stream",
     "text": [
      "[[ 2496.00076557 -4995.0012311   2498.99996568 ...     0.\n",
      "      0.             0.        ]\n",
      " [ 2500.50001752 -5000.99993505  2500.50001752 ...     0.\n",
      "      0.             0.        ]\n",
      " [    0.          2500.50001752 -5000.99993505 ...     0.\n",
      "      0.             0.        ]\n",
      " ...\n",
      " [    0.             0.             0.         ... -5000.99993505\n",
      "   2500.50001752     0.        ]\n",
      " [    0.             0.             0.         ...  2500.50001752\n",
      "  -5000.99993505  2500.50001752]\n",
      " [    0.             0.             0.         ...  2498.99996568\n",
      "  -4995.0012311   2496.00076557]]\n",
      "[[2.39842802e-03 0.00000000e+00 0.00000000e+00 ... 0.00000000e+00\n",
      "  0.00000000e+00 0.00000000e+00]\n",
      " [0.00000000e+00 2.59790354e-08 0.00000000e+00 ... 0.00000000e+00\n",
      "  0.00000000e+00 0.00000000e+00]\n",
      " [0.00000000e+00 0.00000000e+00 2.59790354e-08 ... 0.00000000e+00\n",
      "  0.00000000e+00 0.00000000e+00]\n",
      " ...\n",
      " [0.00000000e+00 0.00000000e+00 0.00000000e+00 ... 2.59790354e-08\n",
      "  0.00000000e+00 0.00000000e+00]\n",
      " [0.00000000e+00 0.00000000e+00 0.00000000e+00 ... 0.00000000e+00\n",
      "  2.59790354e-08 0.00000000e+00]\n",
      " [0.00000000e+00 0.00000000e+00 0.00000000e+00 ... 0.00000000e+00\n",
      "  0.00000000e+00 2.39842802e-03]]\n"
     ]
    }
   ],
   "source": [
    "discretized_pde = pnmol.pde_problems.heat_1d()\n",
    "# discretized_pde = pnmol.pde_problems.burgers_1d()"
   ]
  },
  {
   "cell_type": "code",
   "execution_count": 4,
   "id": "f3537777",
   "metadata": {},
   "outputs": [],
   "source": [
    "import jax\n",
    "import jax.numpy as jnp"
   ]
  },
  {
   "cell_type": "code",
   "execution_count": 5,
   "id": "2420c8a2",
   "metadata": {},
   "outputs": [],
   "source": [
    "f = lambda x, y: jnp.exp(-(x-y)**2)"
   ]
  },
  {
   "cell_type": "code",
   "execution_count": 6,
   "id": "51f0006c",
   "metadata": {},
   "outputs": [
    {
     "data": {
      "text/plain": [
       "(DeviceArray(-7.35758882, dtype=float64),\n",
       " DeviceArray(0.73575888, dtype=float64))"
      ]
     },
     "execution_count": 6,
     "metadata": {},
     "output_type": "execute_result"
    }
   ],
   "source": [
    "df = jax.grad(jax.grad(f, argnums=0), argnums=0)\n",
    "df(2., 3.)\n",
    "\n",
    "ddf = jax.grad(jax.grad(df, argnums=1), argnums=1)\n",
    "ddf(2., 3.), df(2., 3.)"
   ]
  },
  {
   "cell_type": "code",
   "execution_count": 7,
   "id": "014959ee",
   "metadata": {},
   "outputs": [],
   "source": [
    "D = pnmol.differential_operator.laplace()\n",
    "\n",
    "ddf2 = D(D(f, argnums=0), argnums=1)"
   ]
  },
  {
   "cell_type": "code",
   "execution_count": 8,
   "id": "970cb9bb",
   "metadata": {},
   "outputs": [
    {
     "data": {
      "text/plain": [
       "DeviceArray(-7.35758882, dtype=float64)"
      ]
     },
     "execution_count": 8,
     "metadata": {},
     "output_type": "execute_result"
    }
   ],
   "source": [
    "ddf2(jnp.array([2.]), jnp.array([3.]))"
   ]
  },
  {
   "cell_type": "code",
   "execution_count": null,
   "id": "17af4b93",
   "metadata": {},
   "outputs": [],
   "source": []
  },
  {
   "cell_type": "code",
   "execution_count": null,
   "id": "85278d6a",
   "metadata": {},
   "outputs": [],
   "source": []
  },
  {
   "cell_type": "code",
   "execution_count": 9,
   "id": "cccdd8c3",
   "metadata": {},
   "outputs": [
    {
     "name": "stdout",
     "output_type": "stream",
     "text": [
      "[[2.39842802e-03 0.00000000e+00 0.00000000e+00 ... 0.00000000e+00\n",
      "  0.00000000e+00 0.00000000e+00]\n",
      " [0.00000000e+00 2.59790354e-08 0.00000000e+00 ... 0.00000000e+00\n",
      "  0.00000000e+00 0.00000000e+00]\n",
      " [0.00000000e+00 0.00000000e+00 2.59790354e-08 ... 0.00000000e+00\n",
      "  0.00000000e+00 0.00000000e+00]\n",
      " ...\n",
      " [0.00000000e+00 0.00000000e+00 0.00000000e+00 ... 2.59790354e-08\n",
      "  0.00000000e+00 0.00000000e+00]\n",
      " [0.00000000e+00 0.00000000e+00 0.00000000e+00 ... 0.00000000e+00\n",
      "  2.59790354e-08 0.00000000e+00]\n",
      " [0.00000000e+00 0.00000000e+00 0.00000000e+00 ... 0.00000000e+00\n",
      "  0.00000000e+00 2.39842802e-03]]\n"
     ]
    }
   ],
   "source": [
    "print(discretized_pde.E)"
   ]
  },
  {
   "cell_type": "code",
   "execution_count": 10,
   "id": "d12ae9c5",
   "metadata": {},
   "outputs": [
    {
     "ename": "AssertionError",
     "evalue": "",
     "output_type": "error",
     "traceback": [
      "\u001b[0;31m---------------------------------------------------------------------------\u001b[0m",
      "\u001b[0;31mAssertionError\u001b[0m                            Traceback (most recent call last)",
      "\u001b[0;32m/tmp/ipykernel_68468/3331662505.py\u001b[0m in \u001b[0;36m<module>\u001b[0;34m\u001b[0m\n\u001b[0;32m----> 1\u001b[0;31m \u001b[0;32massert\u001b[0m \u001b[0;32mFalse\u001b[0m\u001b[0;34m\u001b[0m\u001b[0;34m\u001b[0m\u001b[0m\n\u001b[0m\u001b[1;32m      2\u001b[0m \u001b[0mconstant_steps\u001b[0m \u001b[0;34m=\u001b[0m \u001b[0mtornadox\u001b[0m\u001b[0;34m.\u001b[0m\u001b[0mstep\u001b[0m\u001b[0;34m.\u001b[0m\u001b[0mConstantSteps\u001b[0m\u001b[0;34m(\u001b[0m\u001b[0;36m0.01\u001b[0m\u001b[0;34m)\u001b[0m\u001b[0;34m\u001b[0m\u001b[0;34m\u001b[0m\u001b[0m\n\u001b[1;32m      3\u001b[0m \u001b[0madaptive_steps\u001b[0m \u001b[0;34m=\u001b[0m \u001b[0mtornadox\u001b[0m\u001b[0;34m.\u001b[0m\u001b[0mstep\u001b[0m\u001b[0;34m.\u001b[0m\u001b[0mAdaptiveSteps\u001b[0m\u001b[0;34m(\u001b[0m\u001b[0mabstol\u001b[0m\u001b[0;34m=\u001b[0m\u001b[0;36m1e-3\u001b[0m\u001b[0;34m,\u001b[0m \u001b[0mreltol\u001b[0m\u001b[0;34m=\u001b[0m\u001b[0;36m1e-3\u001b[0m\u001b[0;34m)\u001b[0m\u001b[0;34m\u001b[0m\u001b[0;34m\u001b[0m\u001b[0m\n\u001b[1;32m      4\u001b[0m \u001b[0mnu\u001b[0m \u001b[0;34m=\u001b[0m \u001b[0;36m3\u001b[0m\u001b[0;34m\u001b[0m\u001b[0;34m\u001b[0m\u001b[0m\n",
      "\u001b[0;31mAssertionError\u001b[0m: "
     ]
    }
   ],
   "source": [
    "assert False\n",
    "constant_steps = tornadox.step.ConstantSteps(0.01)\n",
    "adaptive_steps = tornadox.step.AdaptiveSteps(abstol=1e-3, reltol=1e-3)\n",
    "nu = 3"
   ]
  },
  {
   "cell_type": "code",
   "execution_count": null,
   "id": "e2b99709",
   "metadata": {},
   "outputs": [],
   "source": [
    "ek1 = pnmol.solver.MeasurementCovarianceEK0(num_derivatives=nu, steprule=adaptive_steps)\n",
    "sol = ek1.solve(ivp=discretized_pde)"
   ]
  },
  {
   "cell_type": "code",
   "execution_count": null,
   "id": "cc882233",
   "metadata": {},
   "outputs": [],
   "source": [
    "print(sol.mean[3].shape)\n",
    "print(sol.cov[3].shape)\n",
    "E0 = ek1.iwp.projection_matrix(0)\n",
    "print(E0.shape)"
   ]
  },
  {
   "cell_type": "code",
   "execution_count": null,
   "id": "7d22a967",
   "metadata": {},
   "outputs": [],
   "source": [
    "plt.rcParams[\"animation.embed_limit\"] = 2 * 10**8  # Set the animation max size to 200MB\n",
    "\n",
    "grid = discretized_pde.spatial_grid\n",
    "\n",
    "fig = plt.figure(figsize=(20, 8))\n",
    "ax = fig.add_subplot(1,1,1)\n",
    "_im1 = ax.plot(grid.points.squeeze(), E0 @ sol.mean[0])\n",
    "_im1 = ax.plot(grid.points.squeeze(), discretized_pde.y0.squeeze())\n",
    "\n",
    "ax1ylim = [-0.2, 1.2]\n",
    "ax.set_ylim(ax1ylim)\n",
    "\n",
    "plt.close()\n",
    "\n",
    "\n",
    "def animate(i):\n",
    "    \n",
    "    mean = E0 @ sol.mean[i]\n",
    "    std = E0 @ jnp.sqrt(jnp.diag(sol.cov[i]))\n",
    "    \n",
    "    ax.cla()\n",
    "    ax.set_title(f\"t={sol.t[i]}\")\n",
    "    ax.plot(grid.points.squeeze(), mean, color=\"C0\", label=\"PN solution\")\n",
    "    ax.fill_between(\n",
    "        grid.points.squeeze(), \n",
    "        mean - 2 * std, \n",
    "        mean + 2 * std,\n",
    "        color=\"C0\",\n",
    "        alpha=0.2,\n",
    "    )\n",
    "    ax.set_ylim(ax1ylim)\n",
    "    ax.legend()\n",
    "    \n",
    "# Animation setup\n",
    "anim = animation.FuncAnimation(\n",
    "    fig, func=animate, frames=len(sol.t), interval=100, repeat_delay=4000, blit=False\n",
    ")\n",
    "HTML(anim.to_jshtml())"
   ]
  },
  {
   "cell_type": "code",
   "execution_count": null,
   "id": "9ebbae9f-155e-4dca-9db9-759ba6fee464",
   "metadata": {},
   "outputs": [],
   "source": []
  }
 ],
 "metadata": {
  "kernelspec": {
   "display_name": "Python 3",
   "language": "python",
   "name": "python3"
  },
  "language_info": {
   "codemirror_mode": {
    "name": "ipython",
    "version": 3
   },
   "file_extension": ".py",
   "mimetype": "text/x-python",
   "name": "python",
   "nbconvert_exporter": "python",
   "pygments_lexer": "ipython3",
   "version": "3.8.10"
  }
 },
 "nbformat": 4,
 "nbformat_minor": 5
}
