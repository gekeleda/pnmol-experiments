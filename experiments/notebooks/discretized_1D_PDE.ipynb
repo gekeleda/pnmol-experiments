{
 "cells": [
  {
   "cell_type": "code",
   "execution_count": null,
   "id": "7184a91f",
   "metadata": {},
   "outputs": [],
   "source": [
    "import jax.numpy as jnp\n",
    "\n",
    "import matplotlib.pyplot as plt\n",
    "import tornadox\n",
    "from matplotlib import animation\n",
    "\n",
    "import pnmol\n",
    "\n",
    "from IPython.display import HTML"
   ]
  },
  {
   "cell_type": "code",
   "execution_count": null,
   "id": "cc876782",
   "metadata": {},
   "outputs": [],
   "source": [
    "%load_ext autoreload\n",
    "%autoreload 2"
   ]
  },
  {
   "cell_type": "markdown",
   "id": "cca39250",
   "metadata": {},
   "source": [
    "## Discretize some 1D PDE"
   ]
  },
  {
   "cell_type": "code",
   "execution_count": null,
   "id": "cd9d52d5",
   "metadata": {},
   "outputs": [],
   "source": [
    "# discretized_pde = pnmol.pde_problems.heat_1d()\n",
    "discretized_pde = pnmol.pde_problems.burgers_1d()"
   ]
  },
  {
   "cell_type": "code",
   "execution_count": null,
   "id": "d12ae9c5",
   "metadata": {},
   "outputs": [],
   "source": [
    "\n",
    "constant_steps = tornadox.step.ConstantSteps(0.01)\n",
    "adaptive_steps = tornadox.step.AdaptiveSteps(abstol=1e-3, reltol=1e-3)\n",
    "nu = 3"
   ]
  },
  {
   "cell_type": "code",
   "execution_count": null,
   "id": "e2b99709",
   "metadata": {},
   "outputs": [],
   "source": [
    "ek1 = tornadox.ek1.ReferenceEK1(num_derivatives=nu, steprule=adaptive_steps)\n",
    "sol = ek1.solve(ivp=discretized_pde)"
   ]
  },
  {
   "cell_type": "code",
   "execution_count": null,
   "id": "cc882233",
   "metadata": {},
   "outputs": [],
   "source": [
    "print(sol.mean[3].shape)\n",
    "print(sol.cov[3].shape)\n",
    "E0 = ek1.iwp.projection_matrix(0)\n",
    "print(E0.shape)"
   ]
  },
  {
   "cell_type": "code",
   "execution_count": null,
   "id": "7d22a967",
   "metadata": {},
   "outputs": [],
   "source": [
    "plt.rcParams[\"animation.embed_limit\"] = 2 * 10**8  # Set the animation max size to 200MB\n",
    "\n",
    "grid = discretized_pde.spatial_grid\n",
    "\n",
    "fig = plt.figure(figsize=(20, 8))\n",
    "ax = fig.add_subplot(1,1,1)\n",
    "_im1 = ax.plot(grid.points.squeeze(), E0 @ sol.mean[0])\n",
    "_im1 = ax.plot(grid.points.squeeze(), discretized_pde.y0.squeeze())\n",
    "\n",
    "ax1ylim = [-0.2, 1.2]\n",
    "ax.set_ylim(ax1ylim)\n",
    "\n",
    "plt.close()\n",
    "\n",
    "\n",
    "def animate(i):\n",
    "    \n",
    "    mean = E0 @ sol.mean[i]\n",
    "    std = E0 @ jnp.sqrt(jnp.diag(sol.cov[i]))\n",
    "    \n",
    "    ax.cla()\n",
    "    ax.set_title(f\"t={sol.t[i]}\")\n",
    "    ax.plot(grid.points.squeeze(), mean, color=\"C0\", label=\"PN solution\")\n",
    "    ax.fill_between(\n",
    "        grid.points.squeeze(), \n",
    "        mean - 2 * std, \n",
    "        mean + 2 * std,\n",
    "        color=\"C0\",\n",
    "        alpha=0.2,\n",
    "    )\n",
    "    ax.set_ylim(ax1ylim)\n",
    "    ax.legend()\n",
    "    \n",
    "# Animation setup\n",
    "anim = animation.FuncAnimation(\n",
    "    fig, func=animate, frames=len(sol.t), interval=100, repeat_delay=4000, blit=False\n",
    ")\n",
    "HTML(anim.to_jshtml())"
   ]
  },
  {
   "cell_type": "code",
   "execution_count": null,
   "id": "9ebbae9f-155e-4dca-9db9-759ba6fee464",
   "metadata": {},
   "outputs": [],
   "source": []
  }
 ],
 "metadata": {
  "kernelspec": {
   "display_name": "Python [conda env:pnmol]",
   "language": "python",
   "name": "conda-env-pnmol-py"
  },
  "language_info": {
   "codemirror_mode": {
    "name": "ipython",
    "version": 3
   },
   "file_extension": ".py",
   "mimetype": "text/x-python",
   "name": "python",
   "nbconvert_exporter": "python",
   "pygments_lexer": "ipython3",
   "version": "3.8.11"
  }
 },
 "nbformat": 4,
 "nbformat_minor": 5
}
